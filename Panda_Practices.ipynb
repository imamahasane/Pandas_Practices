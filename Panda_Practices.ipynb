{
 "cells": [
  {
   "cell_type": "code",
   "execution_count": 6,
   "id": "01e16890",
   "metadata": {},
   "outputs": [],
   "source": [
    "import pandas as pd"
   ]
  },
  {
   "cell_type": "markdown",
   "id": "3d9cac3f",
   "metadata": {},
   "source": [
    "# pandas series object"
   ]
  },
  {
   "cell_type": "markdown",
   "id": "cc5ccc69",
   "metadata": {},
   "source": [
    "### Pandas Series is a one-dimensional labeled array"
   ]
  },
  {
   "cell_type": "code",
   "execution_count": 7,
   "id": "30dafb86",
   "metadata": {},
   "outputs": [],
   "source": [
    "s1 = pd.Series([11, 22, 33, 44, 55, 66, 77])"
   ]
  },
  {
   "cell_type": "code",
   "execution_count": 8,
   "id": "87264ed7",
   "metadata": {},
   "outputs": [
    {
     "data": {
      "text/plain": [
       "0    11\n",
       "1    22\n",
       "2    33\n",
       "3    44\n",
       "4    55\n",
       "5    66\n",
       "6    77\n",
       "dtype: int64"
      ]
     },
     "execution_count": 8,
     "metadata": {},
     "output_type": "execute_result"
    }
   ],
   "source": [
    "s1"
   ]
  },
  {
   "cell_type": "code",
   "execution_count": 9,
   "id": "4fc4ccb2",
   "metadata": {},
   "outputs": [
    {
     "data": {
      "text/plain": [
       "pandas.core.series.Series"
      ]
     },
     "execution_count": 9,
     "metadata": {},
     "output_type": "execute_result"
    }
   ],
   "source": [
    "type(s1)"
   ]
  },
  {
   "cell_type": "code",
   "execution_count": 11,
   "id": "818b0e16",
   "metadata": {},
   "outputs": [],
   "source": [
    "s2 = pd.Series([11, 22, 33, 44, 55, 66, 77], index = ['a', 'b', 'c', 'd', 'e', 'f', 'g'])"
   ]
  },
  {
   "cell_type": "code",
   "execution_count": 12,
   "id": "8811481d",
   "metadata": {},
   "outputs": [
    {
     "data": {
      "text/plain": [
       "a    11\n",
       "b    22\n",
       "c    33\n",
       "d    44\n",
       "e    55\n",
       "f    66\n",
       "g    77\n",
       "dtype: int64"
      ]
     },
     "execution_count": 12,
     "metadata": {},
     "output_type": "execute_result"
    }
   ],
   "source": [
    "s2"
   ]
  },
  {
   "cell_type": "markdown",
   "id": "d4d0c1ed",
   "metadata": {},
   "source": [
    "### Series Obbject from Dictionary"
   ]
  },
  {
   "cell_type": "code",
   "execution_count": 13,
   "id": "814654ab",
   "metadata": {},
   "outputs": [],
   "source": [
    "s3 = pd.Series({'a': 11, 'b': 22, 'c': 33 })"
   ]
  },
  {
   "cell_type": "code",
   "execution_count": 14,
   "id": "fe3cd3e0",
   "metadata": {},
   "outputs": [
    {
     "data": {
      "text/plain": [
       "a    11\n",
       "b    22\n",
       "c    33\n",
       "dtype: int64"
      ]
     },
     "execution_count": 14,
     "metadata": {},
     "output_type": "execute_result"
    }
   ],
   "source": [
    "s3"
   ]
  },
  {
   "cell_type": "code",
   "execution_count": 18,
   "id": "b858f718",
   "metadata": {},
   "outputs": [],
   "source": [
    "s4 = pd.Series({'a': 11, 'b': 22, 'c': 33 }, index = ['b', 'c', 'a', 'm'])"
   ]
  },
  {
   "cell_type": "code",
   "execution_count": 19,
   "id": "aa8357d1",
   "metadata": {},
   "outputs": [
    {
     "data": {
      "text/plain": [
       "b    22.0\n",
       "c    33.0\n",
       "a    11.0\n",
       "m     NaN\n",
       "dtype: float64"
      ]
     },
     "execution_count": 19,
     "metadata": {},
     "output_type": "execute_result"
    }
   ],
   "source": [
    "s4"
   ]
  },
  {
   "cell_type": "markdown",
   "id": "67076462",
   "metadata": {},
   "source": [
    "# extracting individual elements"
   ]
  },
  {
   "cell_type": "code",
   "execution_count": null,
   "id": "6f4202b7",
   "metadata": {},
   "outputs": [],
   "source": []
  }
 ],
 "metadata": {
  "kernelspec": {
   "display_name": "Python 3 (ipykernel)",
   "language": "python",
   "name": "python3"
  },
  "language_info": {
   "codemirror_mode": {
    "name": "ipython",
    "version": 3
   },
   "file_extension": ".py",
   "mimetype": "text/x-python",
   "name": "python",
   "nbconvert_exporter": "python",
   "pygments_lexer": "ipython3",
   "version": "3.8.8"
  }
 },
 "nbformat": 4,
 "nbformat_minor": 5
}
